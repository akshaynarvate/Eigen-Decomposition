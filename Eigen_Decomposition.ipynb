{
  "nbformat": 4,
  "nbformat_minor": 0,
  "metadata": {
    "colab": {
      "name": "Eigen Decomposition.ipynb",
      "provenance": []
    },
    "kernelspec": {
      "name": "python3",
      "display_name": "Python 3"
    },
    "language_info": {
      "name": "python"
    }
  },
  "cells": [
    {
      "cell_type": "markdown",
      "source": [
        "## Defining the matrix"
      ],
      "metadata": {
        "id": "c7edZeWSf0P3"
      }
    },
    {
      "cell_type": "code",
      "execution_count": null,
      "metadata": {
        "colab": {
          "base_uri": "https://localhost:8080/"
        },
        "id": "BPZD1foIfwVl",
        "outputId": "6fb1ec87-237c-43a8-9e0c-464c3db881c2"
      },
      "outputs": [
        {
          "output_type": "execute_result",
          "data": {
            "text/plain": [
              "array([[2.5, 2.4, 2.3],\n",
              "       [0.5, 0.7, 0.9],\n",
              "       [2.2, 2.9, 2.7]])"
            ]
          },
          "metadata": {},
          "execution_count": 1
        }
      ],
      "source": [
        "import numpy as np\n",
        "data = np.array([[2.5, 2.4, 2.3], [0.5, 0.7, 0.9], [2.2, 2.9, 2.7]])\n",
        "data"
      ]
    },
    {
      "cell_type": "markdown",
      "source": [
        "## Extracting eigenvalue and vector"
      ],
      "metadata": {
        "id": "YpBaeGN7gRU6"
      }
    },
    {
      "cell_type": "code",
      "source": [
        "values, vectors = np.linalg.eig(data)\n",
        "print(\"eigenvector :\", vectors)\n",
        "print(\"eigenvalues :\", values)"
      ],
      "metadata": {
        "colab": {
          "base_uri": "https://localhost:8080/"
        },
        "id": "wMl0NCPlf2ms",
        "outputId": "967d4e40-8a78-4191-86e9-d46a8c14f82b"
      },
      "execution_count": null,
      "outputs": [
        {
          "output_type": "stream",
          "name": "stdout",
          "text": [
            "eigenvector : [[ 0.67680159  0.85325227  0.06974548]\n",
            " [ 0.19870841 -0.35133343 -0.72981306]\n",
            " [ 0.7088403  -0.38538992  0.68007975]]\n",
            "eigenvalues : [ 5.61351647  0.4729359  -0.18645237]\n"
          ]
        }
      ]
    },
    {
      "cell_type": "code",
      "source": [
        "import tensorflow as tf\n",
        "values, vectors = tf.linalg.eigh(data)\n",
        "print(\"eigenvector :\", vectors)\n",
        "print(\"eigenvalues :\", values)"
      ],
      "metadata": {
        "colab": {
          "base_uri": "https://localhost:8080/"
        },
        "id": "3QmU5wOtgkXZ",
        "outputId": "22c7fe44-af97-4e37-c7bf-7669d30777c1"
      },
      "execution_count": null,
      "outputs": [
        {
          "output_type": "stream",
          "name": "stdout",
          "text": [
            "eigenvector : tf.Tensor(\n",
            "[[ 0.24654269 -0.81910062  0.51796802]\n",
            " [ 0.73950474  0.50444354  0.44572351]\n",
            " [-0.62637803  0.27314994  0.73009566]], shape=(3, 3), dtype=float64)\n",
            "eigenvalues : tf.Tensor([-1.58967421  1.45842879  6.03124543], shape=(3,), dtype=float64)\n"
          ]
        }
      ]
    },
    {
      "cell_type": "markdown",
      "source": [
        "## Fitting the PCA on matrix"
      ],
      "metadata": {
        "id": "EFDM8w9ZhQPq"
      }
    },
    {
      "cell_type": "code",
      "source": [
        "from sklearn.decomposition import PCA\n",
        "import numpy as np\n",
        "print(data)\n",
        "pca = PCA()\n",
        "pca.fit(data)"
      ],
      "metadata": {
        "colab": {
          "base_uri": "https://localhost:8080/"
        },
        "id": "gdb3SfEzhGXe",
        "outputId": "33eb448e-3d1e-40c1-9729-bf7ea1a43f70"
      },
      "execution_count": null,
      "outputs": [
        {
          "output_type": "stream",
          "name": "stdout",
          "text": [
            "[[2.5 2.4 2.3]\n",
            " [0.5 0.7 0.9]\n",
            " [2.2 2.9 2.7]]\n"
          ]
        },
        {
          "output_type": "execute_result",
          "data": {
            "text/plain": [
              "PCA()"
            ]
          },
          "metadata": {},
          "execution_count": 8
        }
      ]
    },
    {
      "cell_type": "markdown",
      "source": [
        "## Extracting eigenvectors and values"
      ],
      "metadata": {
        "id": "JW1HVuhviMZB"
      }
    },
    {
      "cell_type": "code",
      "source": [
        "print(\"eigenvectors :\", pca.components_)\n",
        "print(\"eigenvalues :\", pca.explained_variance_)"
      ],
      "metadata": {
        "colab": {
          "base_uri": "https://localhost:8080/"
        },
        "id": "Tbo6OH0Yhz7C",
        "outputId": "6219b56a-c0f4-4dd1-9fa0-4b5c6a0367e2"
      },
      "execution_count": null,
      "outputs": [
        {
          "output_type": "stream",
          "name": "stdout",
          "text": [
            "eigenvectors : [[-0.57806669 -0.63095309 -0.51743318]\n",
            " [ 0.81592449 -0.45495264 -0.35677069]\n",
            " [ 0.01030203  0.62842365 -0.77780305]]\n",
            "eigenvalues : [3.29123908e+00 9.54275859e-02 3.18326380e-33]\n"
          ]
        }
      ]
    },
    {
      "cell_type": "code",
      "source": [
        ""
      ],
      "metadata": {
        "id": "FxTWfkzkh38h"
      },
      "execution_count": null,
      "outputs": []
    },
    {
      "cell_type": "code",
      "source": [
        ""
      ],
      "metadata": {
        "id": "1HRJNSOhh4Ce"
      },
      "execution_count": null,
      "outputs": []
    }
  ]
}